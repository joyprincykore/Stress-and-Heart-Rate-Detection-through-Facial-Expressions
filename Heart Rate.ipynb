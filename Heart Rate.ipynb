{
 "cells": [
  {
   "cell_type": "code",
   "execution_count": 1,
   "id": "bf554942",
   "metadata": {},
   "outputs": [],
   "source": [
    "import cv2\n",
    "import numpy as np\n",
    "\n",
    "# Constants for heart rate detection\n",
    "MIN_FACE_SIZE = 100\n",
    "HEART_RATE_WINDOW_SIZE = 128\n",
    "HEART_RATE_HISTORY_SIZE = 30\n",
    "HEART_RATE_THRESHOLD = 20\n",
    "\n",
    "# Initialize face detector and heart rate detector\n",
    "face_cascade = cv2.CascadeClassifier('haarcascade_frontalface_default.xml')\n",
    "heart_rate_history = np.zeros(HEART_RATE_HISTORY_SIZE)\n",
    "heart_rate_index = 0\n",
    "\n",
    "# Initialize video capture\n",
    "cap = cv2.VideoCapture(0)\n",
    "\n",
    "while True:\n",
    "    # Capture frame-by-frame\n",
    "    ret, frame = cap.read()\n",
    "\n",
    "    # Detect faces in the frame\n",
    "    gray = cv2.cvtColor(frame, cv2.COLOR_BGR2GRAY)\n",
    "    faces = face_cascade.detectMultiScale(gray, scaleFactor=1.3, minNeighbors=5, minSize=(MIN_FACE_SIZE, MIN_FACE_SIZE))\n",
    "\n",
    "    # If a face is detected, calculate heart rate\n",
    "    if len(faces) > 0:\n",
    "        (x, y, w, h) = faces[0]\n",
    "        face_roi = gray[y:y+h, x:x+w]\n",
    "        face_roi = cv2.resize(face_roi, (HEART_RATE_WINDOW_SIZE, HEART_RATE_WINDOW_SIZE))\n",
    "        heart_rate = np.fft.rfft(face_roi)[0].real\n",
    "        heart_rate_scalar = np.mean(heart_rate) # Convert to scalar value\n",
    "        heart_rate_history[heart_rate_index] = heart_rate_scalar\n",
    "        heart_rate_index = (heart_rate_index + 1) % HEART_RATE_HISTORY_SIZE\n",
    "\n",
    "        # Check if heart rate is above threshold\n",
    "        stress_level = \"Normal\"\n",
    "        if np.mean(heart_rate_history) - heart_rate_scalar > HEART_RATE_THRESHOLD:\n",
    "            stress_level = \"Stressed\"\n",
    "\n",
    "        # Draw heart rate and stress level on frame\n",
    "        cv2.putText(frame, \"Heart rate: {:.2f}\".format(heart_rate_scalar), (20, 50), cv2.FONT_HERSHEY_SIMPLEX, 1, (255, 0, 0), 2)\n",
    "        cv2.putText(frame, \"Stress level: {}\".format(stress_level), (20, 100), cv2.FONT_HERSHEY_SIMPLEX, 1, (0, 0, 255), 2)\n",
    "    \n",
    "    # Display the resulting frame\n",
    "    cv2.imshow('frame',frame)\n",
    "    if cv2.waitKey(1) & 0xFF == ord('q'):\n",
    "        break\n",
    "\n",
    "# When everything done, release the capture\n",
    "cap.release()\n",
    "cv2.destroyAllWindows()"
   ]
  },
  {
   "cell_type": "code",
   "execution_count": null,
   "id": "2cd50539",
   "metadata": {},
   "outputs": [],
   "source": []
  }
 ],
 "metadata": {
  "kernelspec": {
   "display_name": "Python 3",
   "language": "python",
   "name": "python3"
  },
  "language_info": {
   "codemirror_mode": {
    "name": "ipython",
    "version": 3
   },
   "file_extension": ".py",
   "mimetype": "text/x-python",
   "name": "python",
   "nbconvert_exporter": "python",
   "pygments_lexer": "ipython3",
   "version": "3.8.8"
  }
 },
 "nbformat": 4,
 "nbformat_minor": 5
}
